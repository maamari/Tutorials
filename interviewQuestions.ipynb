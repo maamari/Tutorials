{
 "cells": [
  {
   "cell_type": "markdown",
   "metadata": {},
   "source": [
    "# Reverse a string"
   ]
  },
  {
   "cell_type": "markdown",
   "metadata": {},
   "source": [
    "Given an input string, print it in reverse"
   ]
  },
  {
   "cell_type": "code",
   "execution_count": 1,
   "metadata": {},
   "outputs": [],
   "source": [
    "# Pythonic\n",
    "def reverse(string):\n",
    "    return string[::-1]"
   ]
  },
  {
   "cell_type": "code",
   "execution_count": 2,
   "metadata": {},
   "outputs": [
    {
     "data": {
      "text/plain": [
       "'olleh'"
      ]
     },
     "execution_count": 2,
     "metadata": {},
     "output_type": "execute_result"
    }
   ],
   "source": [
    "reverse(\"hello\")"
   ]
  },
  {
   "cell_type": "code",
   "execution_count": 6,
   "metadata": {},
   "outputs": [],
   "source": [
    "# Algorithmic\n",
    "def reverse2(string):\n",
    "    new_strings = []\n",
    "    index = len(string)\n",
    "    while index:\n",
    "        index -= 1                       \n",
    "        new_strings.append(string[index])\n",
    "    return ''.join(new_strings)"
   ]
  },
  {
   "cell_type": "code",
   "execution_count": 7,
   "metadata": {},
   "outputs": [
    {
     "data": {
      "text/plain": [
       "'olleh'"
      ]
     },
     "execution_count": 7,
     "metadata": {},
     "output_type": "execute_result"
    }
   ],
   "source": [
    "reverse2(\"hello\")"
   ]
  },
  {
   "cell_type": "markdown",
   "metadata": {},
   "source": [
    "# Two sum"
   ]
  },
  {
   "cell_type": "code",
   "execution_count": 32,
   "metadata": {},
   "outputs": [],
   "source": [
    "# O(n^2)\n",
    "def twoSum(nums, target):      \n",
    "    for i, num in enumerate(nums): \n",
    "        for j, num2 in enumerate(nums): \n",
    "            if num+num2 == target: return [i,j]"
   ]
  },
  {
   "cell_type": "code",
   "execution_count": 38,
   "metadata": {},
   "outputs": [
    {
     "data": {
      "text/plain": [
       "[0, 2]"
      ]
     },
     "execution_count": 38,
     "metadata": {},
     "output_type": "execute_result"
    }
   ],
   "source": [
    "twoSum([1,2,3,4,5],4)"
   ]
  },
  {
   "cell_type": "code",
   "execution_count": 36,
   "metadata": {},
   "outputs": [],
   "source": [
    "# O(n^2))\n",
    "def twoSum2(nums, target):\n",
    "    d = {}\n",
    "    for i, n in enumerate(nums):\n",
    "        m = target - n\n",
    "        if m in d:\n",
    "            return [d[m], i]\n",
    "        else:\n",
    "            d[n] = i"
   ]
  },
  {
   "cell_type": "code",
   "execution_count": 37,
   "metadata": {},
   "outputs": [
    {
     "data": {
      "text/plain": [
       "[0, 2]"
      ]
     },
     "execution_count": 37,
     "metadata": {},
     "output_type": "execute_result"
    }
   ],
   "source": [
    "twoSum2([1,2,3,4,5],4)"
   ]
  },
  {
   "cell_type": "markdown",
   "metadata": {},
   "source": [
    "# Number of islands"
   ]
  },
  {
   "cell_type": "markdown",
   "metadata": {},
   "source": [
    "Given a grid, determine the number of islands"
   ]
  },
  {
   "cell_type": "code",
   "execution_count": 41,
   "metadata": {},
   "outputs": [],
   "source": [
    "def numIslands(grid):\n",
    "    if not grid:\n",
    "        return 0\n",
    "        \n",
    "    count = 0\n",
    "    for i in range(len(grid)):\n",
    "        for j in range(len(grid[0])):\n",
    "            if grid[i][j] == '1':\n",
    "                dfs(grid, i, j)\n",
    "                count += 1\n",
    "    return count\n",
    "\n",
    "def dfs(grid, i, j):\n",
    "    if i<0 or j<0 or i>=len(grid) or j>=len(grid[0]) or grid[i][j] != '1':\n",
    "        return\n",
    "    grid[i][j] = '#'\n",
    "    dfs(grid, i+1, j)\n",
    "    dfs(grid, i-1, j)\n",
    "    dfs(grid, i, j+1)\n",
    "    dfs(grid, i, j-1)"
   ]
  },
  {
   "cell_type": "code",
   "execution_count": 42,
   "metadata": {},
   "outputs": [
    {
     "data": {
      "text/plain": [
       "1"
      ]
     },
     "execution_count": 42,
     "metadata": {},
     "output_type": "execute_result"
    }
   ],
   "source": [
    "numIslands([[\"1\",\"1\",\"1\",\"1\",\"0\"],[\"1\",\"1\",\"0\",\"1\",\"0\"],[\"1\",\"1\",\"0\",\"0\",\"0\"],[\"0\",\"0\",\"0\",\"0\",\"0\"]])"
   ]
  },
  {
   "cell_type": "markdown",
   "metadata": {},
   "source": [
    "# Minimum window substring"
   ]
  },
  {
   "cell_type": "code",
   "execution_count": 43,
   "metadata": {},
   "outputs": [],
   "source": [
    "# S is full, T is substring\n",
    "def minWindow(self, s, t):\n",
    "    m = len(s)\n",
    "    n = len(t)\n",
    "    if m < n:\n",
    "        return ''\n",
    "    lt = {}\n",
    "    for i in t:\n",
    "        if i not in lt:\n",
    "            lt[i] = 1\n",
    "        else:\n",
    "            lt[i] += 1\n",
    "    missing = n\n",
    "    i = I = J = 0\n",
    "    for j, c in enumerate(s, 1):    \n",
    "        if c in lt and lt[c] > 0:\n",
    "            missing -= 1\n",
    "        if c in lt:\n",
    "            lt[c] -= 1\n",
    "\n",
    "        while i < j and not missing:\n",
    "            if not J or j-i < J-I:\n",
    "                I, J = i, j\n",
    "            if s[i] not in lt:\n",
    "                i += 1\n",
    "                continue\n",
    "            else:\n",
    "                lt[s[i]] += 1\n",
    "                if lt[s[i]] > 0:\n",
    "                    missing += 1\n",
    "                i += 1\n",
    "    return s[I:J]"
   ]
  },
  {
   "cell_type": "markdown",
   "metadata": {},
   "source": [
    "# Coin change"
   ]
  },
  {
   "cell_type": "code",
   "execution_count": 50,
   "metadata": {},
   "outputs": [],
   "source": [
    "def coinChange(coins, amount):\n",
    "    MAX = float('inf')\n",
    "    dp = [0] + [MAX] * amount\n",
    "\n",
    "    for i in range(1, amount + 1):\n",
    "        dp[i] = min([dp[i - c] if i - c >= 0 else MAX for c in coins]) + 1\n",
    "\n",
    "    return [dp[amount], -1][dp[amount] == MAX]"
   ]
  },
  {
   "cell_type": "code",
   "execution_count": 51,
   "metadata": {},
   "outputs": [
    {
     "data": {
      "text/plain": [
       "3"
      ]
     },
     "execution_count": 51,
     "metadata": {},
     "output_type": "execute_result"
    }
   ],
   "source": [
    "coinChange([1,2,5],11)"
   ]
  },
  {
   "cell_type": "markdown",
   "metadata": {},
   "source": [
    "# Merging intervals"
   ]
  },
  {
   "cell_type": "code",
   "execution_count": 62,
   "metadata": {},
   "outputs": [],
   "source": [
    "def merge(intervals):\n",
    "    out = []\n",
    "    for i in sorted(intervals, key=lambda i: i[0]):\n",
    "        if out and i[0]<=out[-1][-1]:\n",
    "            out[-1][-1] = max(out[-1][-1], i[-1])\n",
    "        else: out+=[i]\n",
    "    return out"
   ]
  },
  {
   "cell_type": "code",
   "execution_count": 64,
   "metadata": {},
   "outputs": [
    {
     "data": {
      "text/plain": [
       "[[1, 6], [8, 10], [15, 18]]"
      ]
     },
     "execution_count": 64,
     "metadata": {},
     "output_type": "execute_result"
    }
   ],
   "source": [
    "merge([[1,3],[2,6],[8,10],[15,18]])"
   ]
  },
  {
   "cell_type": "markdown",
   "metadata": {},
   "source": [
    "# Maximum subarray"
   ]
  },
  {
   "cell_type": "code",
   "execution_count": 66,
   "metadata": {},
   "outputs": [],
   "source": [
    "def maxSubArray(nums):\n",
    "    for i in range(1, len(nums)):\n",
    "        if nums[i-1] > 0:\n",
    "            nums[i] += nums[i-1]\n",
    "    return max(nums)"
   ]
  },
  {
   "cell_type": "code",
   "execution_count": 67,
   "metadata": {},
   "outputs": [
    {
     "data": {
      "text/plain": [
       "6"
      ]
     },
     "execution_count": 67,
     "metadata": {},
     "output_type": "execute_result"
    }
   ],
   "source": [
    "maxSubArray([-2,1,-3,4,-1,2,1,-5,4])"
   ]
  },
  {
   "cell_type": "markdown",
   "metadata": {},
   "source": [
    "# Range sum"
   ]
  },
  {
   "cell_type": "code",
   "execution_count": 55,
   "metadata": {},
   "outputs": [],
   "source": [
    "class NumArray(object):\n",
    "    def __init__(self, nums):\n",
    "        self.dp = nums\n",
    "        for i in range(1, len(nums)):\n",
    "            self.dp[i] += self.dp[i-1]\n",
    "\n",
    "    def sumRange(self, i, j):\n",
    "        return self.dp[j] - (self.dp[i-1] if i > 0 else 0)"
   ]
  },
  {
   "cell_type": "code",
   "execution_count": 57,
   "metadata": {},
   "outputs": [
    {
     "data": {
      "text/plain": [
       "1"
      ]
     },
     "execution_count": 57,
     "metadata": {},
     "output_type": "execute_result"
    }
   ],
   "source": [
    "obj = NumArray([-2,0,3,-5,2,-1])\n",
    "obj.sumRange(0,2)"
   ]
  },
  {
   "cell_type": "markdown",
   "metadata": {},
   "source": [
    "# Buying and selling stocks"
   ]
  },
  {
   "cell_type": "code",
   "execution_count": 45,
   "metadata": {},
   "outputs": [],
   "source": [
    "def maxProfit(prices):\n",
    "    max_profit, min_price = 0, float('inf')\n",
    "    for price in prices:\n",
    "        min_price = min(min_price, price)\n",
    "        profit = price - min_price\n",
    "        max_profit = max(max_profit, profit)\n",
    "    return max_profit"
   ]
  },
  {
   "cell_type": "code",
   "execution_count": 46,
   "metadata": {},
   "outputs": [
    {
     "data": {
      "text/plain": [
       "5"
      ]
     },
     "execution_count": 46,
     "metadata": {},
     "output_type": "execute_result"
    }
   ],
   "source": [
    "maxProfit([7,1,5,3,6,4])"
   ]
  },
  {
   "cell_type": "markdown",
   "metadata": {},
   "source": [
    "# Max difference"
   ]
  },
  {
   "cell_type": "markdown",
   "metadata": {},
   "source": [
    "Find the max difference between two elements in the array, given the larger element comes after the smaller"
   ]
  },
  {
   "cell_type": "code",
   "execution_count": 10,
   "metadata": {},
   "outputs": [],
   "source": [
    "# O(n^2), 0(1)\n",
    "def maxDiff(arr, arr_size): \n",
    "    max_diff = arr[1] - arr[0] \n",
    "      \n",
    "    for i in range(0, arr_size ): \n",
    "        for j in range(i+1, arr_size ): \n",
    "            if(arr[j] - arr[i] > max_diff):  \n",
    "                max_diff = arr[j] - arr[i] \n",
    "      \n",
    "    return max_diff "
   ]
  },
  {
   "cell_type": "code",
   "execution_count": 11,
   "metadata": {},
   "outputs": [
    {
     "data": {
      "text/plain": [
       "5"
      ]
     },
     "execution_count": 11,
     "metadata": {},
     "output_type": "execute_result"
    }
   ],
   "source": [
    "maxDiff([1,2,5,4,6],5)"
   ]
  },
  {
   "cell_type": "code",
   "execution_count": 12,
   "metadata": {},
   "outputs": [],
   "source": [
    "# O(n), 0(1)\n",
    "def maxDiff2(arr, arr_size): \n",
    "    max_diff = arr[1] - arr[0] \n",
    "    min_element = arr[0] \n",
    "      \n",
    "    for i in range( 1, arr_size ): \n",
    "        if (arr[i] - min_element > max_diff): \n",
    "            max_diff = arr[i] - min_element \n",
    "      \n",
    "        if (arr[i] < min_element): \n",
    "            min_element = arr[i] \n",
    "    return max_diff "
   ]
  },
  {
   "cell_type": "code",
   "execution_count": 13,
   "metadata": {},
   "outputs": [
    {
     "data": {
      "text/plain": [
       "1"
      ]
     },
     "execution_count": 13,
     "metadata": {},
     "output_type": "execute_result"
    }
   ],
   "source": [
    "maxDiff2([6,5,3,4,1],5)"
   ]
  },
  {
   "cell_type": "markdown",
   "metadata": {},
   "source": [
    "# Balanced array"
   ]
  },
  {
   "cell_type": "markdown",
   "metadata": {},
   "source": [
    "Balance an array such that elements on the left and right of a pivot are equal"
   ]
  },
  {
   "cell_type": "code",
   "execution_count": 21,
   "metadata": {},
   "outputs": [],
   "source": [
    "# O(n)\n",
    "def balancedSum(arr):\n",
    "    sum = 0\n",
    "    pf = [0] * len(arr)\n",
    "    # store the prefix sums for each index\n",
    "    # while calculating the overall array sum\n",
    "    for i in range(len(arr)):\n",
    "        sum += arr[i]\n",
    "        pf[i] = sum\n",
    "    # pf[i-1] is the prefix sum up to the current index\n",
    "    # sum - pf[i] is the sum of elements from the current index to the end\n",
    "    for i in range(1, len(arr)):\n",
    "        if(pf[i - 1] == sum - pf[i]):\n",
    "            return i\n",
    "    return -1"
   ]
  },
  {
   "cell_type": "code",
   "execution_count": 20,
   "metadata": {},
   "outputs": [
    {
     "data": {
      "text/plain": [
       "3"
      ]
     },
     "execution_count": 20,
     "metadata": {},
     "output_type": "execute_result"
    }
   ],
   "source": [
    "balancedSum([1,2,3,1,6])"
   ]
  },
  {
   "cell_type": "markdown",
   "metadata": {},
   "source": [
    "# Element frequency"
   ]
  },
  {
   "cell_type": "markdown",
   "metadata": {},
   "source": [
    "Given an array of integers, create a 2-dimensional array where the first element is a distinct value from the array and the second element is that value's frequency within the array.  Sort the resulting array descending by frequency.  If multiple values have the same frequency, they should be sorted ascending"
   ]
  },
  {
   "cell_type": "code",
   "execution_count": 25,
   "metadata": {},
   "outputs": [],
   "source": [
    "# O(n)\n",
    "def elementFreq(arr):\n",
    "    cnt = {}\n",
    "    for x in arr:\n",
    "        cnt[x] = cnt.get(x, 0) + 1\n",
    "\n",
    "    res = sorted(cnt.items(), key=lambda e: (-e[1], e[0]))\n",
    "    return res"
   ]
  },
  {
   "cell_type": "code",
   "execution_count": 26,
   "metadata": {},
   "outputs": [
    {
     "data": {
      "text/plain": [
       "[(2, 3), (1, 2), (3, 2), (4, 2)]"
      ]
     },
     "execution_count": 26,
     "metadata": {},
     "output_type": "execute_result"
    }
   ],
   "source": [
    "elementFreq([1,1,4,4,3,3,2,2,2])"
   ]
  },
  {
   "cell_type": "markdown",
   "metadata": {},
   "source": [
    "# 2D Growth"
   ]
  },
  {
   "cell_type": "markdown",
   "metadata": {},
   "source": [
    "Start with an infinite two dimensional grid filled with zeros, indexed from (1,1) at the bottom left corner with coordinates increasing toward the top and right. Given a series of coordinates (r, c), where r is the ending row and c is the ending column, add 1 to each element in the range from (1,1) to (r, c) inclusive. Once all coordinates are processed, determine how many cells contain the maximal value in the grid."
   ]
  },
  {
   "cell_type": "code",
   "execution_count": 29,
   "metadata": {},
   "outputs": [],
   "source": [
    "# O(rows*cols), 0(rows,cols)\n",
    "def countMax(upRight):\n",
    "    n = len(upRight)\n",
    "    # initialize arrays with zeros\n",
    "    # size is fixed by constraints\n",
    "    row = [0] * 1000005\n",
    "    col = [0] * 1000005\n",
    "    for i in range(n):\n",
    "        # get the indices per query\n",
    "        li = upRight[i].split(\" \")\n",
    "        # update appropriate rows and columns\n",
    "        # for ranges where operations occur\n",
    "        row[1] += 1\n",
    "        row[int(li[0]) + 1] -= 1\n",
    "        col[1] += 1\n",
    "        col[int(li[1]) + 1] -= 1\n",
    "    # calculate prefix sums by row and by column\n",
    "    # while discovering the global maximum value\n",
    "    sum1 = 0\n",
    "    sum2 = 0\n",
    "    mx = 0\n",
    "    for i in range(1000005):\n",
    "        sum1 += row[i]\n",
    "        row[i] = sum1\n",
    "        sum2 += col[i]\n",
    "        col[i] = sum2\n",
    "        mx = max(mx, row[i])\n",
    "        mx = max(mx, col[i])\n",
    "    # count the number of cells matching the global maximum \n",
    "    cnt1 = 0\n",
    "    cnt2 = 0\n",
    "    for i in range(1000005):\n",
    "        if(row[i] == mx):\n",
    "            cnt1 += 1\n",
    "        if(col[i] == mx):\n",
    "            cnt2 += 1\n",
    "    \n",
    "    return cnt1 * cnt2"
   ]
  },
  {
   "cell_type": "code",
   "execution_count": 30,
   "metadata": {},
   "outputs": [
    {
     "data": {
      "text/plain": [
       "2"
      ]
     },
     "execution_count": 30,
     "metadata": {},
     "output_type": "execute_result"
    }
   ],
   "source": [
    "countMax([\"2 3\", \"3 7\", \"4 1\"])"
   ]
  },
  {
   "cell_type": "code",
   "execution_count": null,
   "metadata": {},
   "outputs": [],
   "source": []
  }
 ],
 "metadata": {
  "kernelspec": {
   "display_name": "Python 3",
   "language": "python",
   "name": "python3"
  },
  "language_info": {
   "codemirror_mode": {
    "name": "ipython",
    "version": 3
   },
   "file_extension": ".py",
   "mimetype": "text/x-python",
   "name": "python",
   "nbconvert_exporter": "python",
   "pygments_lexer": "ipython3",
   "version": "3.7.6"
  }
 },
 "nbformat": 4,
 "nbformat_minor": 4
}
