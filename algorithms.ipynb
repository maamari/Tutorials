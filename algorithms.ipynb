{
 "cells": [
  {
   "cell_type": "markdown",
   "metadata": {},
   "source": [
    "# Tree traversal"
   ]
  },
  {
   "cell_type": "markdown",
   "metadata": {},
   "source": [
    "Binary tree: nodes to left are smaller, to right larger<br>\n",
    "Pre-order: Node -> Left -> Right<br>\n",
    "In-order: Left -> Node -> Right<br>\n",
    "Post-order: Left -> Right -> Node<br>"
   ]
  },
  {
   "cell_type": "code",
   "execution_count": 9,
   "metadata": {},
   "outputs": [
    {
     "name": "stdout",
     "output_type": "stream",
     "text": [
      "False\n",
      "[27, 14, 10, 19, 35, 31, 42]\n",
      "[14, 10, 19, 27, 35, 31, 42]\n",
      "[14, 10, 19, 35, 31, 42, 27]\n"
     ]
    }
   ],
   "source": [
    "class Node:\n",
    "\n",
    "    def __init__(self, root):\n",
    "\n",
    "        self.left = None\n",
    "        self.right = None\n",
    "        self.root = root\n",
    "    \n",
    "    # Insert Node\n",
    "    def insert(self, root):\n",
    "        # If root already exists\n",
    "        if self.root:\n",
    "            # If inserted root is smaller\n",
    "            if root < self.root:\n",
    "                # If no node to the left\n",
    "                if self.left is None:\n",
    "                    # Insert\n",
    "                    self.left = Node(root)\n",
    "                # If node already exists\n",
    "                else:\n",
    "                    # Recurse\n",
    "                    self.left.insert(root)\n",
    "            # If inserted root is larger\n",
    "            elif root > self.root:\n",
    "                # Look to the right\n",
    "                if self.right is None:\n",
    "                    # If no node exists, insert\n",
    "                    self.right = Node(root)\n",
    "                # Otherwise recurse\n",
    "                else:\n",
    "                    self.right.insert(root)\n",
    "        # If no root exists, insert\n",
    "        else:\n",
    "            self.root = root\n",
    "\n",
    "    # Print the Tree\n",
    "    def PrintTree(self):\n",
    "        # Recurse down the left side to smallest node\n",
    "        if self.left:\n",
    "            self.left.PrintTree()\n",
    "        # Print node\n",
    "        print( self.root),\n",
    "        if self.right:\n",
    "            self.right.PrintTree()\n",
    "    \n",
    "    # Find element in Tree\n",
    "    def contains(self, value):\n",
    "        if self.root == value:\n",
    "            return True\n",
    "        elif self.root > value:\n",
    "            if self.left is None:\n",
    "                return False\n",
    "            else:\n",
    "                return self.left.contains(value)\n",
    "        else:\n",
    "            if self.right is None:\n",
    "                return False\n",
    "            else:\n",
    "                return self.right.contains(value)\n",
    "    \n",
    "    # Preorder traversal\n",
    "    # Root -> Left -> Right\n",
    "    def PreorderTraversal(self, root):\n",
    "        order = []\n",
    "        if root:\n",
    "            order.append(root.root)\n",
    "            order = order + self.PreorderTraversal(root.left)\n",
    "            order = order + self.PreorderTraversal(root.right)\n",
    "        return order\n",
    "\n",
    "    # Inorder traversal\n",
    "    # Left -> Root -> Right\n",
    "    def InorderTraversal(self, root):\n",
    "        order = []\n",
    "        if root:\n",
    "            order = order + self.PreorderTraversal(root.left)            \n",
    "            order.append(root.root)\n",
    "            order = order + self.PreorderTraversal(root.right)\n",
    "        return order\n",
    "\n",
    "    # Postorder traversal\n",
    "    # Left -> Right -> Root\n",
    "    def PostorderTraversal(self, root):\n",
    "        order = []\n",
    "        if root:\n",
    "            order = order + self.PreorderTraversal(root.left)                        \n",
    "            order = order + self.PreorderTraversal(root.right)\n",
    "            order.append(root.root)            \n",
    "        return order\n",
    "    \n",
    "root = Node(27)\n",
    "root.insert(14)\n",
    "root.insert(35)\n",
    "root.insert(10)\n",
    "root.insert(19)\n",
    "root.insert(31)\n",
    "root.insert(42)\n",
    "print(root.contains(20))\n",
    "print(root.PreorderTraversal(root))\n",
    "print(root.InorderTraversal(root))\n",
    "print(root.PostorderTraversal(root))"
   ]
  },
  {
   "cell_type": "markdown",
   "metadata": {},
   "source": [
    "---"
   ]
  },
  {
   "cell_type": "markdown",
   "metadata": {},
   "source": [
    "# Graph search"
   ]
  },
  {
   "cell_type": "code",
   "execution_count": 27,
   "metadata": {},
   "outputs": [
    {
     "name": "stdout",
     "output_type": "stream",
     "text": [
      "A B S C G D E F H None\n"
     ]
    }
   ],
   "source": [
    "graph = {\n",
    "    'A' : ['B','S'],\n",
    "    'B' : ['A'],\n",
    "    'C' : ['D','E','F','S'],\n",
    "    'D' : ['C'],\n",
    "    'E' : ['C','H'],\n",
    "    'F' : ['C','G'],\n",
    "    'G' : ['F','S'],\n",
    "    'H' : ['E','G'],\n",
    "    'S' : ['A','C','G']\n",
    "}\n",
    "\n",
    "def dfs(graph, node, visited):\n",
    "    if node not in visited:\n",
    "        visited.append(node)\n",
    "        for n in graph[node]:\n",
    "            dfs(graph,n, visited)\n",
    "    return visited\n",
    "\n",
    "def bfs(graph, node, visited):\n",
    "    visited = [] # List to keep track of visited nodes.\n",
    "    queue = []     #Initialize a queue\n",
    "    visited.append(node)\n",
    "    queue.append(node)\n",
    "    while queue:\n",
    "        s = queue.pop(0) \n",
    "        print (s, end = \" \") \n",
    "        for neighbour in graph[s]:\n",
    "            if neighbour not in visited:\n",
    "                visited.append(neighbour)\n",
    "                queue.append(neighbour)\n",
    "    \n",
    "def dijsktra(graph, initial, end):\n",
    "    # shortest paths is a dict of nodes\n",
    "    # whose value is a tuple of (previous node, weight)\n",
    "    shortest_paths = {initial: (None, 0)}\n",
    "    current_node = initial\n",
    "    visited = set()\n",
    "    \n",
    "    while current_node != end:\n",
    "        visited.add(current_node)\n",
    "        destinations = graph.edges[current_node]\n",
    "        weight_to_current_node = shortest_paths[current_node][1]\n",
    "\n",
    "        for next_node in destinations:\n",
    "            weight = graph.weights[(current_node, next_node)] + weight_to_current_node\n",
    "            if next_node not in shortest_paths:\n",
    "                shortest_paths[next_node] = (current_node, weight)\n",
    "            else:\n",
    "                current_shortest_weight = shortest_paths[next_node][1]\n",
    "                if current_shortest_weight > weight:\n",
    "                    shortest_paths[next_node] = (current_node, weight)\n",
    "        \n",
    "        next_destinations = {node: shortest_paths[node] for node in shortest_paths if node not in visited}\n",
    "        if not next_destinations:\n",
    "            return \"Route Not Possible\"\n",
    "        # next node is the destination with the lowest weight\n",
    "        current_node = min(next_destinations, key=lambda k: next_destinations[k][1])\n",
    "    \n",
    "    # Work back through destinations in shortest path\n",
    "    path = []\n",
    "    while current_node is not None:\n",
    "        path.append(current_node)\n",
    "        next_node = shortest_paths[current_node][0]\n",
    "        current_node = next_node\n",
    "    # Reverse path\n",
    "    path = path[::-1]\n",
    "    return path\n",
    "\n",
    "visited = dfs(graph,'A', [])\n",
    "visited = bfs(graph,'A', [])\n",
    "print(visited)"
   ]
  },
  {
   "cell_type": "markdown",
   "metadata": {},
   "source": [
    "---"
   ]
  },
  {
   "cell_type": "markdown",
   "metadata": {},
   "source": [
    "# Search"
   ]
  },
  {
   "cell_type": "markdown",
   "metadata": {},
   "source": [
    "### Binary search"
   ]
  },
  {
   "cell_type": "markdown",
   "metadata": {},
   "source": [
    "---"
   ]
  },
  {
   "cell_type": "markdown",
   "metadata": {},
   "source": [
    "# Sorting"
   ]
  },
  {
   "cell_type": "markdown",
   "metadata": {},
   "source": [
    "### Merge sort"
   ]
  },
  {
   "cell_type": "markdown",
   "metadata": {},
   "source": [
    "1. Split array into 2 halves\n",
    "2. Sort first and second halves independently\n",
    "3. Merge the two halves"
   ]
  },
  {
   "cell_type": "code",
   "execution_count": null,
   "metadata": {},
   "outputs": [],
   "source": [
    "def mergeSort(arr):\n",
    "    if len(arr)>1:\n",
    "        middle=len(arr)//2\n",
    "        left=arr[:middle]\n",
    "        right=arr[middle:]\n",
    "        \n",
    "        # Recursively split array\n",
    "        mergeSort(left)\n",
    "        mergeSort(right)\n",
    "        \n",
    "        # Sort and combine elements\n",
    "        i=j=k=0\n",
    "        while i<len(left) and j<len(right):\n",
    "            print(\"Status:\",left,right)\n",
    "            print(\"Comparing:\",left[i],right[j])\n",
    "            if left[i]<right[j]:\n",
    "                arr[k]=left[i]\n",
    "                i+=1\n",
    "            else:\n",
    "                arr[k]=right[j]\n",
    "                j+=1\n",
    "            k+=1\n",
    "        while i<len(left):\n",
    "            arr[k]=left[i]\n",
    "            i+=1\n",
    "            k+=1\n",
    "        while j<len(right):\n",
    "            arr[k]=right[j]\n",
    "            j+=1\n",
    "            k+=1    \n",
    "\n",
    "        print(\"Result:\",arr,\"\\n\")"
   ]
  },
  {
   "cell_type": "code",
   "execution_count": null,
   "metadata": {},
   "outputs": [],
   "source": [
    "arr = [12,10,8,3,2,11]\n",
    "mergeSort(arr)\n",
    "print(\"Final array:\", arr)"
   ]
  },
  {
   "cell_type": "markdown",
   "metadata": {},
   "source": [
    "### Quick sort"
   ]
  },
  {
   "cell_type": "markdown",
   "metadata": {},
   "source": [
    "1. Pick a pivot"
   ]
  }
 ],
 "metadata": {
  "kernelspec": {
   "display_name": "Python 3",
   "language": "python",
   "name": "python3"
  },
  "language_info": {
   "codemirror_mode": {
    "name": "ipython",
    "version": 3
   },
   "file_extension": ".py",
   "mimetype": "text/x-python",
   "name": "python",
   "nbconvert_exporter": "python",
   "pygments_lexer": "ipython3",
   "version": "3.7.6"
  }
 },
 "nbformat": 4,
 "nbformat_minor": 4
}
