{
 "cells": [
  {
   "cell_type": "markdown",
   "metadata": {},
   "source": [
    "# Merge sort"
   ]
  },
  {
   "cell_type": "markdown",
   "metadata": {},
   "source": [
    "1. Split array into 2 halves\n",
    "2. Sort first and second halves independently\n",
    "3. Merge the two halves"
   ]
  },
  {
   "cell_type": "code",
   "execution_count": 77,
   "metadata": {},
   "outputs": [],
   "source": [
    "def mergeSort(arr):\n",
    "    if len(arr)>1:\n",
    "        middle=len(arr)//2\n",
    "        left=arr[:middle]\n",
    "        right=arr[middle:]\n",
    "        \n",
    "        # Recursively split array\n",
    "        mergeSort(left)\n",
    "        mergeSort(right)\n",
    "        \n",
    "        # Sort and combine elements\n",
    "        i=j=k=0\n",
    "        while i<len(left) and j<len(right):\n",
    "            print(\"Status:\",left,right)\n",
    "            print(\"Comparing:\",left[i],right[j])\n",
    "            if left[i]<right[j]:\n",
    "                arr[k]=left[i]\n",
    "                i+=1\n",
    "            else:\n",
    "                arr[k]=right[j]\n",
    "                j+=1\n",
    "            k+=1\n",
    "        while i<len(left):\n",
    "            arr[k]=left[i]\n",
    "            i+=1\n",
    "            k+=1\n",
    "        while j<len(right):\n",
    "            arr[k]=right[j]\n",
    "            j+=1\n",
    "            k+=1    \n",
    "\n",
    "        print(\"Result:\",arr,\"\\n\")"
   ]
  },
  {
   "cell_type": "code",
   "execution_count": 74,
   "metadata": {},
   "outputs": [
    {
     "name": "stdout",
     "output_type": "stream",
     "text": [
      "Status: [10] [8]\n",
      "Comparing: 10 8\n",
      "Result: [8, 10] \n",
      "\n",
      "Status: [12] [8, 10]\n",
      "Comparing: 12 8\n",
      "Status: [12] [8, 10]\n",
      "Comparing: 12 10\n",
      "Result: [8, 10, 12] \n",
      "\n",
      "Status: [2] [11]\n",
      "Comparing: 2 11\n",
      "Result: [2, 11] \n",
      "\n",
      "Status: [3] [2, 11]\n",
      "Comparing: 3 2\n",
      "Status: [3] [2, 11]\n",
      "Comparing: 3 11\n",
      "Result: [2, 3, 11] \n",
      "\n",
      "Status: [8, 10, 12] [2, 3, 11]\n",
      "Comparing: 8 2\n",
      "Status: [8, 10, 12] [2, 3, 11]\n",
      "Comparing: 8 3\n",
      "Status: [8, 10, 12] [2, 3, 11]\n",
      "Comparing: 8 11\n",
      "Status: [8, 10, 12] [2, 3, 11]\n",
      "Comparing: 10 11\n",
      "Status: [8, 10, 12] [2, 3, 11]\n",
      "Comparing: 12 11\n",
      "Result: [2, 3, 8, 10, 11, 12] \n",
      "\n",
      "Final array: [2, 3, 8, 10, 11, 12]\n"
     ]
    }
   ],
   "source": [
    "arr = [12,10,8,3,2,11]\n",
    "mergeSort(arr)\n",
    "print(\"Final array:\", arr)"
   ]
  },
  {
   "cell_type": "markdown",
   "metadata": {},
   "source": [
    "---"
   ]
  },
  {
   "cell_type": "markdown",
   "metadata": {},
   "source": [
    "# Quick sort"
   ]
  },
  {
   "cell_type": "markdown",
   "metadata": {},
   "source": [
    "1. Pick a pivot"
   ]
  },
  {
   "cell_type": "code",
   "execution_count": null,
   "metadata": {},
   "outputs": [],
   "source": []
  }
 ],
 "metadata": {
  "kernelspec": {
   "display_name": "Python 3",
   "language": "python",
   "name": "python3"
  },
  "language_info": {
   "codemirror_mode": {
    "name": "ipython",
    "version": 3
   },
   "file_extension": ".py",
   "mimetype": "text/x-python",
   "name": "python",
   "nbconvert_exporter": "python",
   "pygments_lexer": "ipython3",
   "version": "3.7.6"
  }
 },
 "nbformat": 4,
 "nbformat_minor": 4
}
