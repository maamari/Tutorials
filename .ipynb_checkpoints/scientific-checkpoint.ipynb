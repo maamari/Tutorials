{
 "cells": [
  {
   "cell_type": "markdown",
   "metadata": {},
   "source": [
    "# Numpy"
   ]
  },
  {
   "cell_type": "markdown",
   "metadata": {},
   "source": [
    "### Basics"
   ]
  },
  {
   "cell_type": "code",
   "execution_count": 2,
   "metadata": {},
   "outputs": [],
   "source": [
    "import numpy as np"
   ]
  },
  {
   "cell_type": "code",
   "execution_count": 3,
   "metadata": {},
   "outputs": [
    {
     "name": "stdout",
     "output_type": "stream",
     "text": [
      "[1 2 3 4]\n",
      "[[1 2]\n",
      " [3 4]]\n",
      "[[1. 1.]\n",
      " [1. 1.]]\n",
      "[[0. 0.]\n",
      " [0. 0.]]\n",
      "[[1 0]\n",
      " [0 1]]\n"
     ]
    }
   ],
   "source": [
    "# Initialization\n",
    "arr = np.array([1,2,3,4])\n",
    "matrix = np.array([[1,2],[3,4]])\n",
    "print(np.array([1,2,3,4]))\n",
    "print(np.array([[1,2],[3,4]]))\n",
    "print(np.ones((2,2)))\n",
    "print(np.zeros((2,2)))\n",
    "print(np.diag([1,1]))"
   ]
  },
  {
   "cell_type": "code",
   "execution_count": 4,
   "metadata": {},
   "outputs": [
    {
     "name": "stdout",
     "output_type": "stream",
     "text": [
      "<class 'numpy.ndarray'> <class 'numpy.ndarray'>\n",
      "(4,) (2, 2)\n",
      "4 4\n"
     ]
    }
   ],
   "source": [
    "# Properties\n",
    "print(type(arr), type(matrix))\n",
    "print(arr.shape, matrix.shape)\n",
    "print(arr.size, matrix.size)"
   ]
  },
  {
   "cell_type": "code",
   "execution_count": 5,
   "metadata": {},
   "outputs": [
    {
     "name": "stdout",
     "output_type": "stream",
     "text": [
      "[0 1 2 3 4 5 6 7 8 9]\n",
      "[1 3 5 7 9]\n",
      "[0.  0.1 0.2 0.3 0.4 0.5 0.6 0.7 0.8 0.9]\n",
      "[ 1.    3.25  5.5   7.75 10.  ]\n",
      "[1.e+01 1.e+02 1.e+03 1.e+04 1.e+05]\n"
     ]
    }
   ],
   "source": [
    "# Ranges\n",
    "print(np.arange(10))\n",
    "print(np.arange(1,10,2))\n",
    "print(np.arange(0,1,0.1))\n",
    "print(np.linspace(1,10,5))\n",
    "print(np.logspace(1,5,5))"
   ]
  },
  {
   "cell_type": "code",
   "execution_count": 6,
   "metadata": {},
   "outputs": [
    {
     "name": "stdout",
     "output_type": "stream",
     "text": [
      "[0.12276849 0.73525533 0.3830768  0.70869495 0.25674697]\n",
      "[-0.09716764  0.5818817  -1.12357511 -0.51396062 -0.36879138]\n"
     ]
    }
   ],
   "source": [
    "# Random\n",
    "print(np.random.rand(5)) # [0,1]\n",
    "print(np.random.randn(5)) # Gaussian normal"
   ]
  },
  {
   "cell_type": "code",
   "execution_count": 8,
   "metadata": {},
   "outputs": [
    {
     "data": {
      "text/plain": [
       "array([[0.00000000e+00, 3.50000000e-26, 1.70000000e-27, 1.30490198e-27,\n",
       "        1.00000000e-04],\n",
       "       [1.00000000e+00, 7.40000000e-24, 3.60000000e-25, 2.12145178e-25,\n",
       "        1.00000000e-02],\n",
       "       [2.00000000e+00, 1.20000000e-21, 3.80000000e-23, 2.73644000e-23,\n",
       "        1.00000000e+00]])"
      ]
     },
     "execution_count": 8,
     "metadata": {},
     "output_type": "execute_result"
    }
   ],
   "source": [
    "# Loading data from file\n",
    "data = np.loadtxt(\"example.csv\",skiprows=1,delimiter=\",\")\n",
    "data"
   ]
  },
  {
   "cell_type": "code",
   "execution_count": 9,
   "metadata": {},
   "outputs": [],
   "source": [
    "# Save data to file\n",
    "np.savetxt(\"example.csv\",data)"
   ]
  },
  {
   "cell_type": "code",
   "execution_count": 25,
   "metadata": {},
   "outputs": [
    {
     "name": "stdout",
     "output_type": "stream",
     "text": [
      "1\n",
      "[1 2]\n",
      "[1 2]\n",
      "[1 3]\n"
     ]
    }
   ],
   "source": [
    "# Access\n",
    "print(matrix[0,0])\n",
    "print(matrix[0])\n",
    "print(matrix[0,:])\n",
    "print(matrix[:,0])"
   ]
  },
  {
   "cell_type": "code",
   "execution_count": 27,
   "metadata": {},
   "outputs": [
    {
     "data": {
      "text/plain": [
       "array([ 1.,  4.,  7., 10.])"
      ]
     },
     "execution_count": 27,
     "metadata": {},
     "output_type": "execute_result"
    }
   ],
   "source": [
    "# Comprehension\n",
    "compArr = np.array([i for i in np.linspace(1,10,4)])\n",
    "compArr"
   ]
  },
  {
   "cell_type": "markdown",
   "metadata": {},
   "source": [
    "### Linear algebra"
   ]
  },
  {
   "cell_type": "code",
   "execution_count": 53,
   "metadata": {},
   "outputs": [
    {
     "name": "stdout",
     "output_type": "stream",
     "text": [
      "[1 2]\n",
      "[2 4]\n",
      "[3 4]\n",
      "[1 4]\n",
      "[[1]\n",
      " [2]]\n"
     ]
    }
   ],
   "source": [
    "# Vectors\n",
    "vec = np.array([1,2])\n",
    "print(vec)\n",
    "print(vec*2)\n",
    "print(vec+2)\n",
    "print(pow(vec,2))\n",
    "print(vec.reshape(2,1))"
   ]
  },
  {
   "cell_type": "code",
   "execution_count": 61,
   "metadata": {},
   "outputs": [
    {
     "name": "stdout",
     "output_type": "stream",
     "text": [
      "[[1 2]\n",
      " [3 4]]\n",
      "[[2 4]\n",
      " [6 8]]\n",
      "[[3 4]\n",
      " [5 6]]\n",
      "[[ 1  4]\n",
      " [ 9 16]]\n",
      "[[1 2]\n",
      " [6 8]]\n"
     ]
    }
   ],
   "source": [
    "# Matrices\n",
    "print(matrix)\n",
    "print(matrix*2)\n",
    "print(matrix+2)\n",
    "print(matrix**2)\n",
    "print(matrix*vec.reshape(2,1))"
   ]
  },
  {
   "cell_type": "code",
   "execution_count": 60,
   "metadata": {},
   "outputs": [
    {
     "name": "stdout",
     "output_type": "stream",
     "text": [
      "5\n",
      "[[ 5]\n",
      " [11]]\n",
      "[[ 7 10]\n",
      " [15 22]]\n"
     ]
    }
   ],
   "source": [
    "# Dot product\n",
    "colVec = vec.reshape(2,1)\n",
    "print(np.dot(vec,vec))\n",
    "print(np.dot(matrix,colVec))\n",
    "print(np.dot(matrix,matrix))"
   ]
  },
  {
   "cell_type": "code",
   "execution_count": 75,
   "metadata": {},
   "outputs": [
    {
     "name": "stdout",
     "output_type": "stream",
     "text": [
      "[[1 2]\n",
      " [3 4]]\n",
      "[[1 2]]\n",
      "[[1]\n",
      " [2]]\n"
     ]
    }
   ],
   "source": [
    "# Matrix object\n",
    "npMatrix = np.matrix(matrix)\n",
    "print(npMatrix)\n",
    "npVec = np.matrix(vec)\n",
    "print(npVec)\n",
    "npColVec = npVec.T\n",
    "print(npColVec)"
   ]
  },
  {
   "cell_type": "code",
   "execution_count": 79,
   "metadata": {},
   "outputs": [
    {
     "name": "stdout",
     "output_type": "stream",
     "text": [
      "[[5]]\n",
      "[[ 5]\n",
      " [11]]\n",
      "[[ 7 10]\n",
      " [15 22]]\n"
     ]
    }
   ],
   "source": [
    "# Dot product\n",
    "print(npVec*npColVec)\n",
    "print(npMatrix*npColVec)\n",
    "print(npMatrix*npMatrix)"
   ]
  },
  {
   "cell_type": "code",
   "execution_count": 81,
   "metadata": {},
   "outputs": [
    {
     "name": "stdout",
     "output_type": "stream",
     "text": [
      "[[5]]\n",
      "[[1 2]\n",
      " [2 4]]\n"
     ]
    }
   ],
   "source": [
    "# Other functions\n",
    "print(np.inner(npVec,npVec)) # Inner product, uT*v\n",
    "print(np.outer(npVec,npVec)) # Outer product, u*vT"
   ]
  },
  {
   "cell_type": "code",
   "execution_count": null,
   "metadata": {},
   "outputs": [],
   "source": []
  }
 ],
 "metadata": {
  "kernelspec": {
   "display_name": "Python 3",
   "language": "python",
   "name": "python3"
  },
  "language_info": {
   "codemirror_mode": {
    "name": "ipython",
    "version": 3
   },
   "file_extension": ".py",
   "mimetype": "text/x-python",
   "name": "python",
   "nbconvert_exporter": "python",
   "pygments_lexer": "ipython3",
   "version": "3.7.6"
  }
 },
 "nbformat": 4,
 "nbformat_minor": 4
}
