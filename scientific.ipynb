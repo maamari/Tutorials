{
 "cells": [
  {
   "cell_type": "markdown",
   "metadata": {},
   "source": [
    "# NumPy"
   ]
  },
  {
   "cell_type": "markdown",
   "metadata": {},
   "source": [
    "### Basics"
   ]
  },
  {
   "cell_type": "code",
   "execution_count": 2,
   "metadata": {},
   "outputs": [],
   "source": [
    "import numpy as np"
   ]
  },
  {
   "cell_type": "code",
   "execution_count": 3,
   "metadata": {},
   "outputs": [
    {
     "name": "stdout",
     "output_type": "stream",
     "text": [
      "[1 2 3 4]\n",
      "[[1 2]\n",
      " [3 4]]\n",
      "[[1. 1.]\n",
      " [1. 1.]]\n",
      "[[0. 0.]\n",
      " [0. 0.]]\n",
      "[[1 0]\n",
      " [0 1]]\n"
     ]
    }
   ],
   "source": [
    "# Initialization\n",
    "arr = np.array([1,2,3,4])\n",
    "matrix = np.array([[1,2],[3,4]])\n",
    "print(np.array([1,2,3,4]))\n",
    "print(np.array([[1,2],[3,4]]))\n",
    "print(np.ones((2,2)))\n",
    "print(np.zeros((2,2)))\n",
    "print(np.diag([1,1]))"
   ]
  },
  {
   "cell_type": "code",
   "execution_count": 4,
   "metadata": {},
   "outputs": [
    {
     "name": "stdout",
     "output_type": "stream",
     "text": [
      "<class 'numpy.ndarray'> <class 'numpy.ndarray'>\n",
      "(4,) (2, 2)\n",
      "4 4\n"
     ]
    }
   ],
   "source": [
    "# Properties\n",
    "print(type(arr), type(matrix))\n",
    "print(arr.shape, matrix.shape)\n",
    "print(arr.size, matrix.size)"
   ]
  },
  {
   "cell_type": "code",
   "execution_count": 5,
   "metadata": {},
   "outputs": [
    {
     "name": "stdout",
     "output_type": "stream",
     "text": [
      "[0 1 2 3 4 5 6 7 8 9]\n",
      "[1 3 5 7 9]\n",
      "[0.  0.1 0.2 0.3 0.4 0.5 0.6 0.7 0.8 0.9]\n",
      "[ 1.    3.25  5.5   7.75 10.  ]\n",
      "[1.e+01 1.e+02 1.e+03 1.e+04 1.e+05]\n"
     ]
    }
   ],
   "source": [
    "# Ranges\n",
    "print(np.arange(10))\n",
    "print(np.arange(1,10,2))\n",
    "print(np.arange(0,1,0.1))\n",
    "print(np.linspace(1,10,5))\n",
    "print(np.logspace(1,5,5))"
   ]
  },
  {
   "cell_type": "code",
   "execution_count": 6,
   "metadata": {},
   "outputs": [
    {
     "name": "stdout",
     "output_type": "stream",
     "text": [
      "[0.17132738 0.96778903 0.98162875 0.11282859 0.02558491]\n",
      "[-2.6128264   2.54569455  0.13916563  0.0714964   1.19875483]\n"
     ]
    }
   ],
   "source": [
    "# Random\n",
    "print(np.random.rand(5)) # [0,1]\n",
    "print(np.random.randn(5)) # Gaussian normal"
   ]
  },
  {
   "cell_type": "code",
   "execution_count": 40,
   "metadata": {},
   "outputs": [
    {
     "data": {
      "text/plain": [
       "array([[0.        , 3.5       , 1.7       , 1.30490198, 1.        ],\n",
       "       [1.        , 7.4       , 3.6       , 2.12145178, 1.        ],\n",
       "       [2.        , 1.2       , 3.8       , 2.73644   , 1.        ]])"
      ]
     },
     "execution_count": 40,
     "metadata": {},
     "output_type": "execute_result"
    }
   ],
   "source": [
    "# Loading data from file\n",
    "data = np.loadtxt(\"example.csv\",skiprows=0,delimiter=\" \")\n",
    "data"
   ]
  },
  {
   "cell_type": "code",
   "execution_count": 41,
   "metadata": {},
   "outputs": [],
   "source": [
    "# Save data to file\n",
    "np.savetxt(\"example.csv\",data)"
   ]
  },
  {
   "cell_type": "code",
   "execution_count": 81,
   "metadata": {},
   "outputs": [
    {
     "name": "stdout",
     "output_type": "stream",
     "text": [
      "1\n",
      "[1 2]\n",
      "[1 2]\n",
      "[1 3]\n"
     ]
    }
   ],
   "source": [
    "# Access\n",
    "print(matrix[0,0])\n",
    "print(matrix[0])\n",
    "print(matrix[0,:]) # [rowStart,rowEnd:colStart,colEnd]\n",
    "print(matrix[:,0])"
   ]
  },
  {
   "cell_type": "code",
   "execution_count": 43,
   "metadata": {},
   "outputs": [
    {
     "data": {
      "text/plain": [
       "array([ 1.,  4.,  7., 10.])"
      ]
     },
     "execution_count": 43,
     "metadata": {},
     "output_type": "execute_result"
    }
   ],
   "source": [
    "# Comprehension\n",
    "compArr = np.array([i for i in np.linspace(1,10,4)])\n",
    "compArr"
   ]
  },
  {
   "cell_type": "markdown",
   "metadata": {},
   "source": [
    "### Linear algebra"
   ]
  },
  {
   "cell_type": "code",
   "execution_count": 44,
   "metadata": {},
   "outputs": [
    {
     "name": "stdout",
     "output_type": "stream",
     "text": [
      "[1 2]\n",
      "[2 4]\n",
      "[3 4]\n",
      "[1 4]\n",
      "[[1]\n",
      " [2]]\n"
     ]
    }
   ],
   "source": [
    "# Vectors\n",
    "vec = np.array([1,2])\n",
    "print(vec)\n",
    "print(vec*2)\n",
    "print(vec+2)\n",
    "print(pow(vec,2))\n",
    "print(vec.reshape(2,1))"
   ]
  },
  {
   "cell_type": "code",
   "execution_count": 45,
   "metadata": {},
   "outputs": [
    {
     "name": "stdout",
     "output_type": "stream",
     "text": [
      "[[1 2]\n",
      " [3 4]]\n",
      "[[2 4]\n",
      " [6 8]]\n",
      "[[3 4]\n",
      " [5 6]]\n",
      "[[ 1  4]\n",
      " [ 9 16]]\n",
      "[[1 2]\n",
      " [6 8]]\n"
     ]
    }
   ],
   "source": [
    "# Matrices\n",
    "print(matrix)\n",
    "print(matrix*2)\n",
    "print(matrix+2)\n",
    "print(matrix**2)\n",
    "print(matrix*vec.reshape(2,1))"
   ]
  },
  {
   "cell_type": "code",
   "execution_count": 46,
   "metadata": {},
   "outputs": [
    {
     "name": "stdout",
     "output_type": "stream",
     "text": [
      "5\n",
      "[[ 5]\n",
      " [11]]\n",
      "[[ 7 10]\n",
      " [15 22]]\n"
     ]
    }
   ],
   "source": [
    "# Dot product\n",
    "colVec = vec.reshape(2,1)\n",
    "print(np.dot(vec,vec))\n",
    "print(np.dot(matrix,colVec))\n",
    "print(np.dot(matrix,matrix))"
   ]
  },
  {
   "cell_type": "code",
   "execution_count": 47,
   "metadata": {},
   "outputs": [
    {
     "name": "stdout",
     "output_type": "stream",
     "text": [
      "[[1 2]\n",
      " [3 4]]\n",
      "[[1 2]]\n",
      "[[1]\n",
      " [2]]\n"
     ]
    }
   ],
   "source": [
    "# Matrix object\n",
    "npMatrix = np.matrix(matrix)\n",
    "print(npMatrix)\n",
    "npVec = np.matrix(vec)\n",
    "print(npVec)\n",
    "npColVec = npVec.T\n",
    "print(npColVec)"
   ]
  },
  {
   "cell_type": "code",
   "execution_count": 48,
   "metadata": {},
   "outputs": [
    {
     "name": "stdout",
     "output_type": "stream",
     "text": [
      "[[5]]\n",
      "[[ 5]\n",
      " [11]]\n",
      "[[ 7 10]\n",
      " [15 22]]\n"
     ]
    }
   ],
   "source": [
    "# Dot product\n",
    "print(npVec*npColVec)\n",
    "print(npMatrix*npColVec)\n",
    "print(npMatrix*npMatrix)"
   ]
  },
  {
   "cell_type": "code",
   "execution_count": 49,
   "metadata": {},
   "outputs": [
    {
     "name": "stdout",
     "output_type": "stream",
     "text": [
      "[[5]]\n",
      "[[1 2]\n",
      " [2 4]]\n"
     ]
    }
   ],
   "source": [
    "# Other functions\n",
    "print(np.inner(npVec,npVec)) # Inner product, uT*v\n",
    "print(np.outer(npVec,npVec)) # Outer product, u*vT"
   ]
  },
  {
   "cell_type": "code",
   "execution_count": 50,
   "metadata": {},
   "outputs": [
    {
     "name": "stdout",
     "output_type": "stream",
     "text": [
      "[[0.+1.j 0.+2.j]\n",
      " [0.+3.j 4.+0.j]]\n",
      "[[0.+1.j 0.+3.j]\n",
      " [0.+2.j 4.+0.j]]\n",
      "[[0.-1.j 0.-2.j]\n",
      " [0.-3.j 4.-0.j]]\n",
      "[[0.-1.j 0.-3.j]\n",
      " [0.-2.j 4.-0.j]]\n",
      "[[0. 0.]\n",
      " [0. 4.]]\n",
      "[[1. 2.]\n",
      " [3. 0.]]\n",
      "[[1. 2.]\n",
      " [3. 4.]]\n"
     ]
    }
   ],
   "source": [
    "# Transformation\n",
    "m = np.matrix([[1j,2j],[3j,4]])\n",
    "print(m)\n",
    "print(np.transpose(m)) # Transpose\n",
    "print(np.conjugate(m)) # Conjugate\n",
    "print(m.H) # Hermitian conjugate: T+C\n",
    "print(np.real(m)) # Real\n",
    "print(np.imag(m)) # Imaginary\n",
    "print(np.abs(m)) # Absolute value"
   ]
  },
  {
   "cell_type": "code",
   "execution_count": 51,
   "metadata": {},
   "outputs": [
    {
     "name": "stdout",
     "output_type": "stream",
     "text": [
      "[[ 0.46153846-0.30769231j -0.15384615-0.23076923j]\n",
      " [-0.23076923-0.34615385j  0.07692308+0.11538462j]]\n",
      "(6.000000000000001+3.9999999999999996j)\n"
     ]
    }
   ],
   "source": [
    "# Computations\n",
    "print(np.linalg.inv(m)) # Inverse\n",
    "print(np.linalg.det(m)) # Determinant"
   ]
  },
  {
   "cell_type": "markdown",
   "metadata": {},
   "source": [
    "### Data processing"
   ]
  },
  {
   "cell_type": "code",
   "execution_count": 73,
   "metadata": {},
   "outputs": [
    {
     "name": "stdout",
     "output_type": "stream",
     "text": [
      "[[0.         3.5        1.7        1.30490198 1.        ]\n",
      " [1.         7.4        3.6        2.12145178 1.        ]\n",
      " [2.         1.2        3.8        2.73644    1.        ]]\n",
      "(3, 5)\n",
      "1.5009803959999999\n",
      "1.1470011710130321\n",
      "1.3156116863052671\n",
      "0.0\n",
      "3.5\n",
      "7.50490198\n",
      "0.0\n",
      "[0.         3.5        5.2        6.50490198 7.50490198]\n",
      "[ 1.          7.4        26.64       56.51547542 56.51547542]\n",
      "11.2\n"
     ]
    }
   ],
   "source": [
    "# Basics\n",
    "print(data)\n",
    "print(np.shape(data)) # Shape\n",
    "print(np.mean(data[0]),) # Mean of data\n",
    "print(np.std(data[0])) # Standard dev\n",
    "print(np.var(data[0])) # Variance\n",
    "print(data[0].min()) # Min\n",
    "print(data[0].max()) # Max\n",
    "print(sum(data[0])) # Sum\n",
    "print(np.prod(data[0])) # Product of elements\n",
    "print(np.cumsum(data[0])) # Cumulative sum\n",
    "print(np.cumprod(data[1])) # Cumulative product\n",
    "print(np.diag(data).sum()) # Trace"
   ]
  },
  {
   "cell_type": "code",
   "execution_count": 75,
   "metadata": {},
   "outputs": [
    {
     "name": "stdout",
     "output_type": "stream",
     "text": [
      "0.9866187647021727\n",
      "[0.78306921 0.71681885 0.98661876]\n",
      "[0.83959847 0.76428941 0.98661876]\n"
     ]
    }
   ],
   "source": [
    "# Higher-dimensional arrays\n",
    "m = np.random.rand(3,3)\n",
    "print(m.max()) # Global max\n",
    "print(m.max(axis=0)) # Max in each column\n",
    "print(m.max(axis=1)) # Max in each row"
   ]
  },
  {
   "cell_type": "markdown",
   "metadata": {},
   "source": [
    "### Manipulating arrays"
   ]
  },
  {
   "cell_type": "code",
   "execution_count": 85,
   "metadata": {},
   "outputs": [
    {
     "name": "stdout",
     "output_type": "stream",
     "text": [
      "(4, 5)\n",
      "[[ 0  1  2  3]\n",
      " [ 4 10 11 12]\n",
      " [13 14 20 21]\n",
      " [22 23 24 30]\n",
      " [31 32 33 34]]\n",
      "[ 0  1  2  3  4 10 11 12 13 14 20 21 22 23 24 30 31 32 33 34]\n"
     ]
    }
   ],
   "source": [
    "m = np.array([[ 0, 1, 2, 3, 4],\n",
    "            [10, 11, 12, 13, 14],\n",
    "            [20, 21, 22, 23, 24],\n",
    "            [30, 31, 32, 33, 34]])\n",
    "print(m.shape)\n",
    "print(m.reshape((5,4)))\n",
    "print(m.flatten())"
   ]
  },
  {
   "cell_type": "code",
   "execution_count": 91,
   "metadata": {},
   "outputs": [
    {
     "name": "stdout",
     "output_type": "stream",
     "text": [
      "[1 1 1 2 2 2 3 3 3 4 4 4]\n",
      "[[1 2 1 2 1 2]\n",
      " [3 4 3 4 3 4]]\n"
     ]
    }
   ],
   "source": [
    "a = np.array([[1,2],[3,4]])\n",
    "print(np.repeat(a,3))\n",
    "print(np.tile(a,3))"
   ]
  },
  {
   "cell_type": "code",
   "execution_count": 95,
   "metadata": {},
   "outputs": [
    {
     "name": "stdout",
     "output_type": "stream",
     "text": [
      "[[1 2]\n",
      " [3 4]\n",
      " [5 6]]\n",
      "[[1 2]\n",
      " [3 4]\n",
      " [5 6]]\n",
      "[[1 2 5]\n",
      " [3 4 6]]\n",
      "[[1 2 5]\n",
      " [3 4 6]]\n"
     ]
    }
   ],
   "source": [
    "b = np.array([[5,6]])\n",
    "print(np.concatenate((a,b),axis=0))\n",
    "print(np.vstack((a,b)))\n",
    "print(np.concatenate((a,b.T),axis=1))\n",
    "print(np.hstack((a,b.T)))"
   ]
  },
  {
   "cell_type": "code",
   "execution_count": 104,
   "metadata": {},
   "outputs": [
    {
     "name": "stdout",
     "output_type": "stream",
     "text": [
      "[[2 2]\n",
      " [3 4]]\n",
      "[[1 2]\n",
      " [3 4]]\n"
     ]
    }
   ],
   "source": [
    "b = a # Shallow copy\n",
    "c = np.copy(a) # Deep copy\n",
    "b[0,0] = 2\n",
    "print(a)\n",
    "print(c)"
   ]
  },
  {
   "cell_type": "markdown",
   "metadata": {},
   "source": [
    "---"
   ]
  },
  {
   "cell_type": "markdown",
   "metadata": {},
   "source": [
    "# SciPy"
   ]
  },
  {
   "cell_type": "code",
   "execution_count": null,
   "metadata": {},
   "outputs": [],
   "source": []
  }
 ],
 "metadata": {
  "kernelspec": {
   "display_name": "Python 3",
   "language": "python",
   "name": "python3"
  },
  "language_info": {
   "codemirror_mode": {
    "name": "ipython",
    "version": 3
   },
   "file_extension": ".py",
   "mimetype": "text/x-python",
   "name": "python",
   "nbconvert_exporter": "python",
   "pygments_lexer": "ipython3",
   "version": "3.7.6"
  }
 },
 "nbformat": 4,
 "nbformat_minor": 4
}
