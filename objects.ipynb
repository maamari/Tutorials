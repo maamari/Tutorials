{
 "cells": [
  {
   "cell_type": "markdown",
   "metadata": {},
   "source": [
    "# General"
   ]
  },
  {
   "cell_type": "code",
   "execution_count": 100,
   "metadata": {},
   "outputs": [
    {
     "name": "stdout",
     "output_type": "stream",
     "text": [
      "Sum of [1,2,3] = 6\n",
      "Range of 2 to 6: [2, 3, 4, 5]\n",
      "Dictionary type: <class 'dict'>\n",
      "Set length: 3\n",
      "Enumeration of list: [(0, 1), (1, 2), (2, 3)]\n",
      "Enumeration of string: [(0, 's'), (1, 't'), (2, 'r')]\n"
     ]
    }
   ],
   "source": [
    "arr = [1,2,3]\n",
    "string = \"str\"\n",
    "mySet = {1,2,3}\n",
    "myDict = {0:1,1:2, 2:3}\n",
    "\n",
    "print(\"Sum of [1,2,3] = {}\".format(sum(arr)))\n",
    "print(\"Range of 2 to 6: {}\".format([i for i in range(2,6)]))\n",
    "print(\"Dictionary type: {}\".format(type(myDict)))\n",
    "print(\"Set length: {}\".format(len(mySet)))\n",
    "print(\"Enumeration of list: {}\".format([(i,num) for i,num in enumerate(arr)]))\n",
    "print(\"Enumeration of string: {}\".format([(i,num) for i,num in enumerate(string)]))"
   ]
  },
  {
   "cell_type": "markdown",
   "metadata": {},
   "source": [
    "---"
   ]
  },
  {
   "cell_type": "markdown",
   "metadata": {},
   "source": [
    "# Lists"
   ]
  },
  {
   "cell_type": "markdown",
   "metadata": {},
   "source": [
    "#### Notes:\n",
    "Mutable\n",
    "#### Available methods:\n",
    "append, extend, insert, remove, pop, clear, index, count, sort, reversed, reverse, sorted, copy, len, min, max, sum, type, enumerate, in"
   ]
  },
  {
   "cell_type": "code",
   "execution_count": 1,
   "metadata": {},
   "outputs": [],
   "source": [
    "# Initialization\n",
    "arr = [1,2,3,4,5,6] \n",
    "arr2d = [[1,2],[3,4],[5,6]]"
   ]
  },
  {
   "cell_type": "code",
   "execution_count": 2,
   "metadata": {},
   "outputs": [
    {
     "name": "stdout",
     "output_type": "stream",
     "text": [
      "1\n",
      "1\n",
      "6\n"
     ]
    }
   ],
   "source": [
    "# Access\n",
    "print(arr[0])\n",
    "print(arr2d[0][0])\n",
    "print(arr[-1]) # -1 is last element, -2 is second to last, etc."
   ]
  },
  {
   "cell_type": "code",
   "execution_count": 3,
   "metadata": {},
   "outputs": [
    {
     "name": "stdout",
     "output_type": "stream",
     "text": [
      "[2, 3]\n",
      "[2, 4, 6]\n",
      "[6, 5, 4, 3, 2, 1]\n"
     ]
    }
   ],
   "source": [
    "# Slicing\n",
    "print(arr[1:3]) # slice is from indexed position to indexed position-1\n",
    "print(arr[1:6:2]) # third position gives step size\n",
    "print(arr[::-1]) # use -1 to reverse"
   ]
  },
  {
   "cell_type": "code",
   "execution_count": 4,
   "metadata": {},
   "outputs": [
    {
     "name": "stdout",
     "output_type": "stream",
     "text": [
      "[2, 3, 4, 5, 6, 7]\n"
     ]
    }
   ],
   "source": [
    "# Assignment\n",
    "arr[0] = 10\n",
    "arr[0:6] = [2,3,4,5,6,7]\n",
    "print(arr)"
   ]
  },
  {
   "cell_type": "code",
   "execution_count": 5,
   "metadata": {},
   "outputs": [
    {
     "name": "stdout",
     "output_type": "stream",
     "text": [
      "[2, 3, 4, 5, 6, 7, 8]\n",
      "[2, 3, 4, 5, 6, 7, 8, 9, 10]\n"
     ]
    }
   ],
   "source": [
    "# Appending\n",
    "arr.append(8)\n",
    "print(arr)\n",
    "arr.extend([9,10])\n",
    "print(arr)"
   ]
  },
  {
   "cell_type": "code",
   "execution_count": 6,
   "metadata": {},
   "outputs": [
    {
     "name": "stdout",
     "output_type": "stream",
     "text": [
      "[1, 2, 3, 4, 5, 6, 7, 8, 9, 10]\n"
     ]
    }
   ],
   "source": [
    "# Concatenation\n",
    "newArr = [1]\n",
    "newArr += arr\n",
    "print(newArr)"
   ]
  },
  {
   "cell_type": "code",
   "execution_count": 7,
   "metadata": {},
   "outputs": [
    {
     "name": "stdout",
     "output_type": "stream",
     "text": [
      "[1, 2, 3, 4, 5, 6, 7, 8, 9, 10, 1, 2, 3, 4, 5, 6, 7, 8, 9, 10]\n"
     ]
    }
   ],
   "source": [
    "# Multiplication\n",
    "newArr *= 2\n",
    "print(newArr)"
   ]
  },
  {
   "cell_type": "code",
   "execution_count": 8,
   "metadata": {},
   "outputs": [
    {
     "name": "stdout",
     "output_type": "stream",
     "text": [
      "[1, 2, 3, 4, 5, 6, 7, 8, 9, 10]\n",
      "[1, 2, 3, 4, 5, 6, 7, 8, 9, 10, 11, 12, 13, 14]\n"
     ]
    }
   ],
   "source": [
    "# Insertion\n",
    "arr.insert(0,1)\n",
    "print(arr)\n",
    "arr[10:15] = [11,12,13,14]\n",
    "print(arr)"
   ]
  },
  {
   "cell_type": "code",
   "execution_count": 9,
   "metadata": {},
   "outputs": [
    {
     "name": "stdout",
     "output_type": "stream",
     "text": [
      "[1, 2, 3, 4, 5, 6, 7, 8, 9, 10, 11, 12, 13]\n",
      "[3, 4, 5, 6, 7, 8, 9, 10, 11, 12, 13]\n"
     ]
    }
   ],
   "source": [
    "# Deletion\n",
    "del arr[-1]\n",
    "print(arr)\n",
    "del arr[0:2]\n",
    "print(arr)\n",
    "#del arr\n",
    "#print(arr)"
   ]
  },
  {
   "cell_type": "code",
   "execution_count": 10,
   "metadata": {},
   "outputs": [
    {
     "name": "stdout",
     "output_type": "stream",
     "text": [
      "[3, 4, 5, 6, 7, 8, 9, 10, 11, 12]\n"
     ]
    }
   ],
   "source": [
    "# Removal\n",
    "arr.remove(13)\n",
    "print(arr)"
   ]
  },
  {
   "cell_type": "code",
   "execution_count": 11,
   "metadata": {},
   "outputs": [
    {
     "name": "stdout",
     "output_type": "stream",
     "text": [
      "[3, 4, 5, 6, 7, 8, 9, 10, 11]\n"
     ]
    }
   ],
   "source": [
    "# Pop\n",
    "arr.pop() # removes last value\n",
    "print(arr)"
   ]
  },
  {
   "cell_type": "code",
   "execution_count": 12,
   "metadata": {},
   "outputs": [
    {
     "name": "stdout",
     "output_type": "stream",
     "text": [
      "[3, 4, 5, 6, 7, 8, 9, 10, 11]\n"
     ]
    }
   ],
   "source": [
    "# Clear\n",
    "# arr.clear()\n",
    "print(arr)"
   ]
  },
  {
   "cell_type": "code",
   "execution_count": 13,
   "metadata": {},
   "outputs": [
    {
     "data": {
      "text/plain": [
       "1"
      ]
     },
     "execution_count": 13,
     "metadata": {},
     "output_type": "execute_result"
    }
   ],
   "source": [
    "# Location\n",
    "arr.index(4)"
   ]
  },
  {
   "cell_type": "code",
   "execution_count": 14,
   "metadata": {},
   "outputs": [
    {
     "data": {
      "text/plain": [
       "1"
      ]
     },
     "execution_count": 14,
     "metadata": {},
     "output_type": "execute_result"
    }
   ],
   "source": [
    "# Count\n",
    "arr.count(10)"
   ]
  },
  {
   "cell_type": "code",
   "execution_count": 15,
   "metadata": {},
   "outputs": [
    {
     "name": "stdout",
     "output_type": "stream",
     "text": [
      "[11, 10, 9, 8, 7, 6, 5, 4, 3]\n",
      "[11, 10, 9, 8, 7, 6, 5, 4, 3]\n",
      "[11, 10, 9, 8, 7, 6, 5, 4, 3]\n",
      "[3, 4, 5, 6, 7, 8, 9, 10, 11]\n"
     ]
    }
   ],
   "source": [
    "# Sort\n",
    "arr.sort(reverse=True)\n",
    "print(arr)\n",
    "reversed(arr)\n",
    "print(arr)\n",
    "arr[::-1]\n",
    "print(arr)\n",
    "arr.reverse()\n",
    "print(arr)"
   ]
  },
  {
   "cell_type": "code",
   "execution_count": 16,
   "metadata": {},
   "outputs": [
    {
     "name": "stdout",
     "output_type": "stream",
     "text": [
      "[3, 4, 5, 6, 7, 8, 9, 10, 11]\n"
     ]
    }
   ],
   "source": [
    "# Copy\n",
    "arr2 = arr.copy()\n",
    "print(arr2)"
   ]
  },
  {
   "cell_type": "code",
   "execution_count": 17,
   "metadata": {},
   "outputs": [
    {
     "data": {
      "text/plain": [
       "9"
      ]
     },
     "execution_count": 17,
     "metadata": {},
     "output_type": "execute_result"
    }
   ],
   "source": [
    "# Length\n",
    "len(arr)"
   ]
  },
  {
   "cell_type": "code",
   "execution_count": 18,
   "metadata": {},
   "outputs": [
    {
     "name": "stdout",
     "output_type": "stream",
     "text": [
      "11\n",
      "3\n"
     ]
    }
   ],
   "source": [
    "# Max/min\n",
    "print(max(arr))\n",
    "print(min(arr))"
   ]
  },
  {
   "cell_type": "code",
   "execution_count": 19,
   "metadata": {},
   "outputs": [
    {
     "data": {
      "text/plain": [
       "[1, 16, 256]"
      ]
     },
     "execution_count": 19,
     "metadata": {},
     "output_type": "execute_result"
    }
   ],
   "source": [
    "# List comprehension\n",
    "[2**x for x in range(10) if x%4==0]"
   ]
  },
  {
   "cell_type": "code",
   "execution_count": 20,
   "metadata": {},
   "outputs": [
    {
     "data": {
      "text/plain": [
       "True"
      ]
     },
     "execution_count": 20,
     "metadata": {},
     "output_type": "execute_result"
    }
   ],
   "source": [
    "# List membership\n",
    "4 in arr"
   ]
  },
  {
   "cell_type": "code",
   "execution_count": 21,
   "metadata": {},
   "outputs": [
    {
     "name": "stdout",
     "output_type": "stream",
     "text": [
      "1 2 3\n",
      "[1, 2, 3]\n"
     ]
    }
   ],
   "source": [
    "# Input\n",
    "intList = [int(item) for item in input().split()]\n",
    "print(intList)"
   ]
  },
  {
   "cell_type": "markdown",
   "metadata": {},
   "source": [
    "---"
   ]
  },
  {
   "cell_type": "markdown",
   "metadata": {},
   "source": [
    "# Tuples"
   ]
  },
  {
   "cell_type": "markdown",
   "metadata": {},
   "source": [
    "#### Notes:\n",
    "Immutable, no sort, no copy, no comprehension, no input, no indexed deletion, no assignment, no appending, no insertion, no removal, no pop, no clear\n",
    "#### Available methods:\n",
    "index, count, len, max, min, in, tuple"
   ]
  },
  {
   "cell_type": "code",
   "execution_count": 22,
   "metadata": {},
   "outputs": [
    {
     "name": "stdout",
     "output_type": "stream",
     "text": [
      "()\n",
      "(3, 4, 5, 6, 'string')\n",
      "(3, 4, 5, 6, 'string')\n"
     ]
    }
   ],
   "source": [
    "# Initialization\n",
    "tup = ()\n",
    "print(tup)\n",
    "tup = (3,4,5,6,\"string\")\n",
    "print(tup)\n",
    "tup = 3,4,5,6,\"string\"\n",
    "print(tup)"
   ]
  },
  {
   "cell_type": "code",
   "execution_count": 23,
   "metadata": {},
   "outputs": [
    {
     "name": "stdout",
     "output_type": "stream",
     "text": [
      "3\n",
      "string\n"
     ]
    }
   ],
   "source": [
    "# Access\n",
    "print(tup[0])\n",
    "print(tup[-1]) # -1 is last element, -2 is second to last, etc."
   ]
  },
  {
   "cell_type": "code",
   "execution_count": 24,
   "metadata": {
    "scrolled": true
   },
   "outputs": [
    {
     "name": "stdout",
     "output_type": "stream",
     "text": [
      "(4, 5)\n",
      "(4, 6)\n",
      "('string', 6, 5, 4, 3)\n"
     ]
    }
   ],
   "source": [
    "# Slicing\n",
    "print(tup[1:3]) # slice is from indexed position to indexed position-1\n",
    "print(tup[1:6:2]) # third position gives step size\n",
    "print(tup[::-1]) # use -1 to reverse"
   ]
  },
  {
   "cell_type": "code",
   "execution_count": 25,
   "metadata": {},
   "outputs": [
    {
     "name": "stdout",
     "output_type": "stream",
     "text": [
      "(1, 2, 3, 4, 5, 6, 'string')\n"
     ]
    }
   ],
   "source": [
    "# Concatenation\n",
    "newTup = (1,2)\n",
    "newTup += tup\n",
    "print(newTup)"
   ]
  },
  {
   "cell_type": "code",
   "execution_count": 26,
   "metadata": {},
   "outputs": [
    {
     "data": {
      "text/plain": [
       "(1, 2, 3, 4, 5, 6, 'string', 1, 2, 3, 4, 5, 6, 'string')"
      ]
     },
     "execution_count": 26,
     "metadata": {},
     "output_type": "execute_result"
    }
   ],
   "source": [
    "# Multiplication\n",
    "newTup*2"
   ]
  },
  {
   "cell_type": "code",
   "execution_count": 27,
   "metadata": {},
   "outputs": [],
   "source": [
    "# Deletion\n",
    "del newTup # Does not support indexed deletion"
   ]
  },
  {
   "cell_type": "code",
   "execution_count": 28,
   "metadata": {},
   "outputs": [
    {
     "data": {
      "text/plain": [
       "1"
      ]
     },
     "execution_count": 28,
     "metadata": {},
     "output_type": "execute_result"
    }
   ],
   "source": [
    "# Location\n",
    "tup.index(4)"
   ]
  },
  {
   "cell_type": "code",
   "execution_count": 29,
   "metadata": {},
   "outputs": [
    {
     "data": {
      "text/plain": [
       "0"
      ]
     },
     "execution_count": 29,
     "metadata": {},
     "output_type": "execute_result"
    }
   ],
   "source": [
    "# Count\n",
    "tup.count(10)"
   ]
  },
  {
   "cell_type": "code",
   "execution_count": 30,
   "metadata": {},
   "outputs": [
    {
     "data": {
      "text/plain": [
       "5"
      ]
     },
     "execution_count": 30,
     "metadata": {},
     "output_type": "execute_result"
    }
   ],
   "source": [
    "# Length\n",
    "len(tup)"
   ]
  },
  {
   "cell_type": "code",
   "execution_count": 31,
   "metadata": {},
   "outputs": [
    {
     "name": "stdout",
     "output_type": "stream",
     "text": [
      "4\n",
      "1\n"
     ]
    }
   ],
   "source": [
    "# Max/min\n",
    "tup = (1,2,3,4)\n",
    "print(max(tup))\n",
    "print(min(tup))"
   ]
  },
  {
   "cell_type": "code",
   "execution_count": 32,
   "metadata": {},
   "outputs": [
    {
     "data": {
      "text/plain": [
       "True"
      ]
     },
     "execution_count": 32,
     "metadata": {},
     "output_type": "execute_result"
    }
   ],
   "source": [
    "# List membership\n",
    "4 in tup"
   ]
  },
  {
   "cell_type": "code",
   "execution_count": 33,
   "metadata": {},
   "outputs": [
    {
     "data": {
      "text/plain": [
       "(3, 4, 5, 6, 7, 8, 9, 10, 11)"
      ]
     },
     "execution_count": 33,
     "metadata": {},
     "output_type": "execute_result"
    }
   ],
   "source": [
    "# Conversion\n",
    "tuple(arr)"
   ]
  },
  {
   "cell_type": "markdown",
   "metadata": {},
   "source": [
    "---"
   ]
  },
  {
   "cell_type": "markdown",
   "metadata": {},
   "source": [
    "# String"
   ]
  },
  {
   "cell_type": "markdown",
   "metadata": {},
   "source": [
    "#### Notes:\n",
    "Immutable, no assignment, no appending, no insertion, no indexed deletion, no removal, no pop, no clear, no copy\n",
    "#### Available methods:\n",
    "index, count, len, max, min, in, format, lower, upper, split, find, replace"
   ]
  },
  {
   "cell_type": "code",
   "execution_count": 34,
   "metadata": {},
   "outputs": [],
   "source": [
    "# Initialization\n",
    "string = \"string\""
   ]
  },
  {
   "cell_type": "code",
   "execution_count": 35,
   "metadata": {},
   "outputs": [
    {
     "name": "stdout",
     "output_type": "stream",
     "text": [
      "s\n",
      "g\n"
     ]
    }
   ],
   "source": [
    "# Access\n",
    "print(string[0])\n",
    "print(string[-1]) # -1 is last element, -2 is second to last, etc."
   ]
  },
  {
   "cell_type": "code",
   "execution_count": 36,
   "metadata": {},
   "outputs": [
    {
     "name": "stdout",
     "output_type": "stream",
     "text": [
      "tr\n",
      "tig\n",
      "gnirts\n"
     ]
    }
   ],
   "source": [
    "# Slicing\n",
    "print(string[1:3]) # slice is from indexed position to indexed position-1\n",
    "print(string[1:6:2]) # third position gives step size\n",
    "print(string[::-1]) # use -1 to reverse"
   ]
  },
  {
   "cell_type": "code",
   "execution_count": 37,
   "metadata": {},
   "outputs": [
    {
     "name": "stdout",
     "output_type": "stream",
     "text": [
      "gstring\n"
     ]
    }
   ],
   "source": [
    "# Concatenation\n",
    "newstring = \"g\"\n",
    "newstring += string\n",
    "print(newstring)"
   ]
  },
  {
   "cell_type": "code",
   "execution_count": 38,
   "metadata": {},
   "outputs": [
    {
     "name": "stdout",
     "output_type": "stream",
     "text": [
      "gstringgstring\n"
     ]
    }
   ],
   "source": [
    "# Multiplication\n",
    "newstring *= 2\n",
    "print(newstring)"
   ]
  },
  {
   "cell_type": "code",
   "execution_count": 39,
   "metadata": {},
   "outputs": [],
   "source": [
    "# Deletion\n",
    "#del string\n",
    "#print(string)"
   ]
  },
  {
   "cell_type": "code",
   "execution_count": 40,
   "metadata": {},
   "outputs": [
    {
     "data": {
      "text/plain": [
       "5"
      ]
     },
     "execution_count": 40,
     "metadata": {},
     "output_type": "execute_result"
    }
   ],
   "source": [
    "# Location\n",
    "string.index('g')"
   ]
  },
  {
   "cell_type": "code",
   "execution_count": 41,
   "metadata": {},
   "outputs": [
    {
     "data": {
      "text/plain": [
       "4"
      ]
     },
     "execution_count": 41,
     "metadata": {},
     "output_type": "execute_result"
    }
   ],
   "source": [
    "# Count\n",
    "newstring.count('g')"
   ]
  },
  {
   "cell_type": "code",
   "execution_count": 42,
   "metadata": {},
   "outputs": [
    {
     "name": "stdout",
     "output_type": "stream",
     "text": [
      "gnirts\n",
      "['g', 'i', 'n', 'r', 's', 't']\n"
     ]
    }
   ],
   "source": [
    "# Sort/Reversal\n",
    "print(string[::-1])\n",
    "print(sorted(string))"
   ]
  },
  {
   "cell_type": "code",
   "execution_count": 43,
   "metadata": {},
   "outputs": [
    {
     "data": {
      "text/plain": [
       "6"
      ]
     },
     "execution_count": 43,
     "metadata": {},
     "output_type": "execute_result"
    }
   ],
   "source": [
    "# Length\n",
    "len(string)"
   ]
  },
  {
   "cell_type": "code",
   "execution_count": 44,
   "metadata": {},
   "outputs": [
    {
     "name": "stdout",
     "output_type": "stream",
     "text": [
      "t\n",
      "g\n"
     ]
    }
   ],
   "source": [
    "# Max/min\n",
    "print(max(string))\n",
    "print(min(string))"
   ]
  },
  {
   "cell_type": "code",
   "execution_count": 45,
   "metadata": {},
   "outputs": [
    {
     "data": {
      "text/plain": [
       "False"
      ]
     },
     "execution_count": 45,
     "metadata": {},
     "output_type": "execute_result"
    }
   ],
   "source": [
    "# List membership\n",
    "\"d\" in string"
   ]
  },
  {
   "cell_type": "code",
   "execution_count": 46,
   "metadata": {
    "scrolled": true
   },
   "outputs": [
    {
     "name": "stdout",
     "output_type": "stream",
     "text": [
      "1 2 3\n",
      "['1', '2', '3']\n"
     ]
    }
   ],
   "source": [
    "# Input\n",
    "intList = [item for item in input().split()]\n",
    "print(intList)"
   ]
  },
  {
   "cell_type": "code",
   "execution_count": 47,
   "metadata": {},
   "outputs": [
    {
     "name": "stdout",
     "output_type": "stream",
     "text": [
      "what's up\n"
     ]
    }
   ],
   "source": [
    "# Quotes\n",
    "string = \"what\\'s up\"\n",
    "print(string)"
   ]
  },
  {
   "cell_type": "code",
   "execution_count": 48,
   "metadata": {},
   "outputs": [
    {
     "name": "stdout",
     "output_type": "stream",
     "text": [
      "Str: String1, String2\n",
      "Str: String2, String1\n",
      "Binary: 1100\n",
      "Exponential: 1.566345e+03\n",
      "Round off: 0.333\n"
     ]
    }
   ],
   "source": [
    "# Formatting\n",
    "print(\"Str: {}, {}\".format('String1', 'String2'))\n",
    "print(\"Str: {1}, {0}\".format('String1', 'String2'))\n",
    "print(\"Binary: {:b}\".format(12))\n",
    "print(\"Exponential: {:e}\".format(1566.345))\n",
    "print(\"Round off: {:.3f}\".format(1/3))"
   ]
  },
  {
   "cell_type": "code",
   "execution_count": 117,
   "metadata": {},
   "outputs": [
    {
     "name": "stdout",
     "output_type": "stream",
     "text": [
      "hello\n",
      "HELLO\n",
      "['HeL', 'O']\n",
      "2\n",
      "JellO\n"
     ]
    }
   ],
   "source": [
    "# Other formatting\n",
    "string = \"HeLlO\"\n",
    "string2 = \"HeLl\"\n",
    "string3 = \"Jell\"\n",
    "print(string.lower())\n",
    "print(string.upper())\n",
    "print(string.split('l'))\n",
    "print(string.find('L'))\n",
    "print(string.replace(string2, string3))"
   ]
  },
  {
   "cell_type": "markdown",
   "metadata": {},
   "source": [
    "---"
   ]
  },
  {
   "cell_type": "markdown",
   "metadata": {},
   "source": [
    "# Set"
   ]
  },
  {
   "cell_type": "markdown",
   "metadata": {},
   "source": [
    "#### Notes:\n",
    "Mutable, cannot be 2D, no indexed access/slicing/etc, no concat/multiplication\n",
    "#### Available methods:\n",
    "add, update, discard, pop, |, &, -, ^, issubset, copy, max, min, in, set"
   ]
  },
  {
   "cell_type": "code",
   "execution_count": 74,
   "metadata": {
    "scrolled": true
   },
   "outputs": [
    {
     "name": "stdout",
     "output_type": "stream",
     "text": [
      "{1, 2, 3, 4, 5, 6}\n"
     ]
    }
   ],
   "source": [
    "# Initialization\n",
    "set1 = {1,2,3,4,5,6} \n",
    "set1 = {1.0, \"Hello\", (1, 2, 3)}\n",
    "set1 = set([1,2,3,4,5,6,6,6])\n",
    "print(set1)"
   ]
  },
  {
   "cell_type": "code",
   "execution_count": 75,
   "metadata": {},
   "outputs": [
    {
     "name": "stdout",
     "output_type": "stream",
     "text": [
      "{1, 2, 3, 4, 5, 6, 7}\n",
      "{1, 2, 3, 4, 5, 6, 7, 8, 9, 10}\n"
     ]
    }
   ],
   "source": [
    "# Addition\n",
    "set1.add(7)\n",
    "print(set1)\n",
    "set1.update([8,9,10])\n",
    "print(set1)"
   ]
  },
  {
   "cell_type": "code",
   "execution_count": 76,
   "metadata": {},
   "outputs": [
    {
     "name": "stdout",
     "output_type": "stream",
     "text": [
      "{1, 2, 3, 4, 5, 6, 7, 8, 9}\n",
      "{2, 3, 4, 5, 6, 7, 8, 9}\n"
     ]
    }
   ],
   "source": [
    "# Deletion\n",
    "set1.discard(10)\n",
    "print(set1)\n",
    "set1.discard(10) # Does nothing\n",
    "# set1.remove(10) # Throws error\n",
    "set1.pop() # Removes top value\n",
    "print(set1)\n",
    "# set1.clear() # Clears set\n",
    "# print(set1)\n",
    "# del set1 # Deletes set"
   ]
  },
  {
   "cell_type": "code",
   "execution_count": 80,
   "metadata": {},
   "outputs": [
    {
     "name": "stdout",
     "output_type": "stream",
     "text": [
      "{2, 3, 4, 5, 6, 7, 8, 9, 10, 11, 12}\n",
      "{8, 9}\n",
      "{2, 3, 4, 5, 6, 7}\n",
      "{2, 3, 4, 5, 6, 7, 10, 11, 12}\n",
      "False\n"
     ]
    }
   ],
   "source": [
    "# Operations\n",
    "set2 = {8,9,10,11,12}\n",
    "print(set1|set2) # Union: all elements from both\n",
    "print(set1&set2) # Intersect: elements existing in both\n",
    "print(set1-set2) # Difference: elements in set1 but not set2\n",
    "print(set1^set2) # Symmetric difference: elements in each but not both\n",
    "print(set1.issubset(set2)) # Checks if set1 is subset of set2"
   ]
  },
  {
   "cell_type": "code",
   "execution_count": 104,
   "metadata": {},
   "outputs": [
    {
     "name": "stdout",
     "output_type": "stream",
     "text": [
      "{2, 3, 4, 5, 6, 7, 8, 9}\n"
     ]
    }
   ],
   "source": [
    "# Copy\n",
    "set12 = set1.copy()\n",
    "print(set12)"
   ]
  },
  {
   "cell_type": "code",
   "execution_count": 105,
   "metadata": {},
   "outputs": [
    {
     "name": "stdout",
     "output_type": "stream",
     "text": [
      "9\n",
      "2\n"
     ]
    }
   ],
   "source": [
    "# Max/min\n",
    "print(max(set1))\n",
    "print(min(set1))"
   ]
  },
  {
   "cell_type": "code",
   "execution_count": 106,
   "metadata": {},
   "outputs": [
    {
     "data": {
      "text/plain": [
       "True"
      ]
     },
     "execution_count": 106,
     "metadata": {},
     "output_type": "execute_result"
    }
   ],
   "source": [
    "# List membership\n",
    "4 in set1"
   ]
  },
  {
   "cell_type": "code",
   "execution_count": 109,
   "metadata": {
    "scrolled": true
   },
   "outputs": [
    {
     "data": {
      "text/plain": [
       "[2, 3, 4, 5, 6, 7, 8, 9]"
      ]
     },
     "execution_count": 109,
     "metadata": {},
     "output_type": "execute_result"
    }
   ],
   "source": [
    "# Input\n",
    "sorted(set1)"
   ]
  },
  {
   "cell_type": "markdown",
   "metadata": {},
   "source": [
    "---"
   ]
  },
  {
   "cell_type": "markdown",
   "metadata": {},
   "source": [
    "# Dictionaries"
   ]
  },
  {
   "cell_type": "markdown",
   "metadata": {},
   "source": [
    "#### Notes:\n",
    "Mutable\n",
    "#### Available methods:\n",
    "get, items, keys, values, update, pop, popitem, in"
   ]
  },
  {
   "cell_type": "code",
   "execution_count": 141,
   "metadata": {},
   "outputs": [
    {
     "name": "stdout",
     "output_type": "stream",
     "text": [
      "{0: 1, 10: 2, 20: 3}\n"
     ]
    }
   ],
   "source": [
    "# Initialization\n",
    "dict1 = {0:1,10:2,20:3}\n",
    "dict1.fromkeys([0,10,20],[1,2,3])\n",
    "dict1 = dict([(0, 1), (10, 2), (20, 3)])\n",
    "print(dict1)"
   ]
  },
  {
   "cell_type": "code",
   "execution_count": 142,
   "metadata": {},
   "outputs": [
    {
     "name": "stdout",
     "output_type": "stream",
     "text": [
      "1\n",
      "2\n",
      "dict_items([(0, 1), (10, 2), (20, 3)])\n",
      "dict_keys([0, 10, 20])\n",
      "dict_values([1, 2, 3])\n"
     ]
    }
   ],
   "source": [
    "# Access\n",
    "print(dict1[0])\n",
    "print(dict1.get(10))\n",
    "print(dict1.items())\n",
    "print(dict1.keys())\n",
    "print(dict1.values())"
   ]
  },
  {
   "cell_type": "code",
   "execution_count": 143,
   "metadata": {},
   "outputs": [
    {
     "name": "stdout",
     "output_type": "stream",
     "text": [
      "{0: 1, 10: 2, 20: 4}\n",
      "{0: 1, 10: 2, 20: 4, 30: 4}\n",
      "{0: 1, 10: 2, 20: 3, 30: 4}\n"
     ]
    }
   ],
   "source": [
    "# Assignment\n",
    "dict1[20] = 4\n",
    "print(dict1)\n",
    "dict1[30] = 4\n",
    "print(dict1)\n",
    "dict1.update({20:3})\n",
    "print(dict1)"
   ]
  },
  {
   "cell_type": "code",
   "execution_count": 144,
   "metadata": {},
   "outputs": [
    {
     "name": "stdout",
     "output_type": "stream",
     "text": [
      "{0: 1, 10: 2, 20: 3}\n",
      "{0: 1, 10: 2}\n",
      "{}\n"
     ]
    }
   ],
   "source": [
    "# Removal\n",
    "dict1.pop(30)\n",
    "print(dict1)\n",
    "dict1.popitem() # pops last item\n",
    "print(dict1)\n",
    "dict1.clear()\n",
    "print(dict1)\n",
    "del dict1"
   ]
  },
  {
   "cell_type": "code",
   "execution_count": 148,
   "metadata": {},
   "outputs": [
    {
     "name": "stdout",
     "output_type": "stream",
     "text": [
      "{0: 0, 2: 20, 4: 40, 6: 60, 8: 80}\n"
     ]
    }
   ],
   "source": [
    "# Dictionary comprehension\n",
    "dict1 = {x:x*10 for x in range(10) if x%2==0}\n",
    "print(dict1)"
   ]
  },
  {
   "cell_type": "code",
   "execution_count": 151,
   "metadata": {},
   "outputs": [
    {
     "name": "stdout",
     "output_type": "stream",
     "text": [
      "False\n",
      "True\n"
     ]
    }
   ],
   "source": [
    "print(20 in dict1)\n",
    "print(2 in dict1)"
   ]
  }
 ],
 "metadata": {
  "kernelspec": {
   "display_name": "Python 3",
   "language": "python",
   "name": "python3"
  },
  "language_info": {
   "codemirror_mode": {
    "name": "ipython",
    "version": 3
   },
   "file_extension": ".py",
   "mimetype": "text/x-python",
   "name": "python",
   "nbconvert_exporter": "python",
   "pygments_lexer": "ipython3",
   "version": "3.7.6"
  }
 },
 "nbformat": 4,
 "nbformat_minor": 4
}
